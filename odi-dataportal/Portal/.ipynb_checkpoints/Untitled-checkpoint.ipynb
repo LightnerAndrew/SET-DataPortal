{
 "cells": [
  {
   "cell_type": "code",
   "execution_count": 3,
   "metadata": {},
   "outputs": [],
   "source": [
    "l = list(range(1991, 2013))\n",
    "g = {}\n",
    "for i in range(0, len(l)): \n",
    "    g[str(l[i])] = (str(l[i]))"
   ]
  },
  {
   "cell_type": "code",
   "execution_count": 4,
   "metadata": {},
   "outputs": [
    {
     "name": "stdout",
     "output_type": "stream",
     "text": [
      "[1991, 1992, 1993, 1994, 1995, 1996, 1997, 1998, 1999, 2000, 2001, 2002, 2003, 2004, 2005, 2006, 2007, 2008, 2009, 2010, 2011, 2012]\n"
     ]
    }
   ],
   "source": []
  },
  {
   "cell_type": "code",
   "execution_count": 14,
   "metadata": {},
   "outputs": [],
   "source": [
    "g = {}\n",
    "for i in range(0, len(l)): \n",
    "    g['y'+str(l[i])] = 'something'"
   ]
  },
  {
   "cell_type": "code",
   "execution_count": 15,
   "metadata": {},
   "outputs": [
    {
     "name": "stdout",
     "output_type": "stream",
     "text": [
      "{'y1991': 'something', 'y1992': 'something', 'y1993': 'something', 'y1994': 'something', 'y1995': 'something', 'y1996': 'something', 'y1997': 'something', 'y1998': 'something', 'y1999': 'something', 'y2000': 'something', 'y2001': 'something', 'y2002': 'something', 'y2003': 'something', 'y2004': 'something', 'y2005': 'something', 'y2006': 'something', 'y2007': 'something', 'y2008': 'something', 'y2009': 'something', 'y2010': 'something', 'y2011': 'something', 'y2012': 'something'}\n"
     ]
    }
   ],
   "source": [
    "print(g)"
   ]
  },
  {
   "cell_type": "code",
   "execution_count": 6,
   "metadata": {
    "collapsed": true
   },
   "outputs": [],
   "source": [
    "df = [('AFG', 'Afghanistan'), ('AGO', 'Angola')]"
   ]
  },
  {
   "cell_type": "code",
   "execution_count": 7,
   "metadata": {
    "collapsed": true
   },
   "outputs": [],
   "source": [
    "din = [('AFG', 'Afghanistan'), ('AGO', 'Angola'), ('ALB', 'Albania'), ('ARE', 'United Arab Emirates'), ('ARG', 'Argentina'), ('ARM', 'Armenia'), ('ATG', 'Antigua & Barbuda'), ('AZE', 'Azerbaijan'), ('BDI', 'Burundi'), ('BEN', 'Benin'), ('BFA', 'Burkina Faso'), ('BGD', 'Bangladesh'), ('BHR', 'Bahrain'), ('BHS', 'Bahamas'), ('BIH', 'Bosnia & Herzegovina'), ('BLR', 'Belarus'), ('BLZ', 'Belize'), ('BOL', 'Bolivia'), ('BRA', 'Brazil'), ('BRB', 'Barbados'), ('BRN', 'Brunei Darussalam'), ('BTN', 'Bhutan'), ('BWA', 'Botswana'), ('CAF', 'Central African Rep.'), ('CHL', 'Chile'), ('CHN', 'China'), ('CIV', \"Côte d'Ivoire\"), ('CMR', 'Cameroon'), ('COD', 'Congo DR'), ('COG', 'Congo'), ('COL', 'Colombia'), ('COM', 'Comoros')('CPV', 'Cape Verde'), ('CRI', 'Costa Rica'), ('CUB', 'Cuba'), ('DJI', 'Djibouti'), ('DMA', 'Dominica'), ('DOM', 'Dominican Rep.'), ('DZA', 'Algeria'), ('ECU', 'Ecuador'), ('EGY', 'Egypt'), ('ERI', 'Eritrea'), ('ETH', 'Ethiopia') ('FJI', 'Fiji'), ('FSM', 'Micronesia (Fed. states of)'), ('GAB', 'Gabon'), ('GEO', 'Georgia'), ('GHA', 'Ghana'), ('GIN', 'Guinea'), ('GMB', 'Gambia'), ('GNB', 'Guinea Bissau') ('GNQ', 'Equatorial Guinea'), ('GRD', 'Grenada'), ('GTM', 'Guatemala'), ('GUY', 'Guyana'), ('HKG', 'Hong Kong'), ('HND', 'Honduras'), ('HTI', 'Haiti'), ('IDN', 'Indonesia'), ('IND', 'India'), ('IRN', 'Iran'), ('IRQ', 'Iraq'), ('JAM', 'Jamaica') ('JOR', 'Jordan'), ('KAZ', 'Kazakhstan') ('KEN', 'Kenya'), ('KGZ', 'Kyrgyzstan'), ('KHM', 'Cambodia') ('KIR', 'Kiribati'), ('KOR', 'Korea Rep.') ('KWT', 'Kuwait'), ('LAO', 'Lao PDR') ('LBN', 'Lebanon'), ('LBR', 'Liberia'), ('LBY', 'Libya'), ('LKA', 'Sri Lanka'), ('LSO', 'Lesotho'), ('MAC', 'Macau'), ('MAR', 'Morocco'), ('MDA', 'Moldova'), ('MDG', 'Madagascar'), ('MDV', 'Maldives'), ('MEX', 'Mexico'), ('MHL', 'Marshall Islands'), ('MKD', 'Macedonia'), ('MLI', 'Mali'), ('MMR', 'Myanmar'), ('MNE', 'Montenegro'), ('MNG', 'Mongolia'), ('MOZ', 'Mozambique'), ('MRT', 'Mauritania'), ('MUS', 'Mauritius'), ('MWI', 'Malawi'), ('MYS', 'Malaysia'), ('NAM', 'Namibia'), ('NER', 'Niger'), ('NGA', 'Nigeria'), ('NIC', 'Nicaragua'), ('NPL', 'Nepal'), ('NRU', 'Nauru'), ('OMN'), ('Oman', 'PAK', 'Pakistan'), ('PAN', 'Panama'), ('PER', 'Peru'), ('PHL', 'Philippines'), ('PLW', 'Palau'), ('PNG', 'Papua New Guinea') ('PRK', 'Korea PDR'), ('PRY', 'Paraguay'), ('PSE', 'West Bank & Gaza (ILO)/State of Palestine (UN)'), ('QAT', 'Qatar'), ('RUS', 'Russian Fed.'), ('RWA', 'Rwanda'), ('SAU', 'Saudi Arabia'), ('SDN', 'Sudan (former)'), ('SEN', 'Senegal'), ('SLB', 'Solomon Islands'), ('SLE', 'Sierra Leone'), ('SLV', 'El Salvador'), ('SOM', 'Somalia'), ('SRB', 'Serbia'), ('SSD', 'South Sudan'), ('STP', 'Sao Tome & Principe'), ('SUR', 'Suriname'), ('SWZ', 'Swaziland'), ('SYC', 'Seychelles'), ('SYR', 'Syria'), ('TCD', 'Chad'), ('TGO', 'Togo'), ('THA', 'Thailand'), ('TJK', 'Tajikistan'), ('TKM', 'Turkmenistan'), ('TLS', 'Timor Leste'), ('TON', 'Tonga'), ('TTO', 'Trinidad & Tobago'), ('TUN', 'Tunisia'), ('TUR', 'Turkey'), ('TUV', 'Tuvalu'), ('TZA', 'Tanzania (= UN Mainland + Zanzibar, ILO U.R. Tanzania)'), ('UGA', 'Uganda'), ('UKR', 'Ukraine'), ('URY', 'Uruguay'), ('UZB', 'Uzbekistan'), ('VEN', 'Venezuela'), ('VNM', 'Vietnam'), ('VUT', 'Vanuatu'), ('WSM', 'Samoa'), ('XKX', 'Kosovo'), ('YEM', 'Yemen'), ('ZAF', 'South Africa'), ('ZMB', 'Zambia'), ('ZWE', 'Zimbabwe'), ('SDN', 'Sudan (current)')]"
   ]
  }
 ],
 "metadata": {
  "kernelspec": {
   "display_name": "Python 3",
   "language": "python",
   "name": "python3"
  },
  "language_info": {
   "codemirror_mode": {
    "name": "ipython",
    "version": 3
   },
   "file_extension": ".py",
   "mimetype": "text/x-python",
   "name": "python",
   "nbconvert_exporter": "python",
   "pygments_lexer": "ipython3",
   "version": "3.6.3"
  }
 },
 "nbformat": 4,
 "nbformat_minor": 2
}
